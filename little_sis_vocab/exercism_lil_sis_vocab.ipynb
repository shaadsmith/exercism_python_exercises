{
 "cells": [
  {
   "attachments": {},
   "cell_type": "markdown",
   "metadata": {},
   "source": [
    "Little Sister's Vocabulary"
   ]
  },
  {
   "cell_type": "code",
   "execution_count": 1,
   "metadata": {},
   "outputs": [],
   "source": [
    "\"\"\"Functions for creating, transforming, and adding prefixes to strings.\"\"\"\n",
    "\n",
    "# Task 1\n",
    "def add_prefix_un(word):\n",
    "    \"\"\"Take the given word and add the 'un' prefix.\n",
    "\n",
    "    :param word: str - containing the root word.\n",
    "    :return: str - of root word prepended with 'un'.\n",
    "    \"\"\"\n",
    "\n",
    "    return f'un{word}'\n",
    "\n",
    "# Task 2\n",
    "def make_word_groups(vocab_words):\n",
    "    \"\"\"Transform a list containing a prefix and words into a string with the prefix followed by the words with prefix prepended.\n",
    "\n",
    "    :param vocab_words: list - of vocabulary words with prefix in first index.\n",
    "    :return: str - of prefix followed by vocabulary words with\n",
    "            prefix applied.\n",
    "\n",
    "    This function takes a `vocab_words` list and returns a string\n",
    "    with the prefix and the words with prefix applied, separated\n",
    "     by ' :: '.\n",
    "\n",
    "    For example: list('en', 'close', 'joy', 'lighten'),\n",
    "    produces the following string: 'en :: enclose :: enjoy :: enlighten'.\n",
    "    \"\"\"\n",
    "\n",
    "    return (' :: ' + vocab_words[0]).join(vocab_words)\n",
    "    \n",
    "# Task 3\n",
    "def remove_suffix_ness(word):\n",
    "    \"\"\"Remove the suffix from the word while keeping spelling in mind.\n",
    "\n",
    "    :param word: str - of word to remove suffix from.\n",
    "    :return: str - of word with suffix removed & spelling adjusted.\n",
    "\n",
    "    For example: \"heaviness\" becomes \"heavy\", but \"sadness\" becomes \"sad\".\n",
    "    \"\"\"\n",
    "\n",
    "    return word[:-4] if word[-5] != 'i' else word[:-5] + 'y' \n",
    "\n",
    "# Task 4\n",
    "def adjective_to_verb(sentence, index):\n",
    "    \"\"\"Change the adjective within the sentence to a verb.\n",
    "\n",
    "    :param sentence: str - that uses the word in sentence.\n",
    "    :param index: int - index of the word to remove and transform.\n",
    "    :return: str - word that changes the extracted adjective to a verb.\n",
    "\n",
    "    For example, (\"It got dark as the sun set\", 2) becomes \"darken\".\n",
    "    \"\"\"\n",
    "\n",
    "    return sentence.split()[index].strip(\".!?,\") + 'en'"
   ]
  }
 ],
 "metadata": {
  "kernelspec": {
   "display_name": "Python 3",
   "language": "python",
   "name": "python3"
  },
  "language_info": {
   "codemirror_mode": {
    "name": "ipython",
    "version": 3
   },
   "file_extension": ".py",
   "mimetype": "text/x-python",
   "name": "python",
   "nbconvert_exporter": "python",
   "pygments_lexer": "ipython3",
   "version": "3.11.3"
  },
  "orig_nbformat": 4
 },
 "nbformat": 4,
 "nbformat_minor": 2
}
