{
 "cells": [
  {
   "cell_type": "markdown",
   "metadata": {},
   "source": [
    "Card Game from Exercism"
   ]
  },
  {
   "cell_type": "code",
   "execution_count": null,
   "metadata": {},
   "outputs": [],
   "source": [
    "\"\"\"Functions for tracking poker hands and assorted card tasks.\n",
    "\n",
    "Python list documentation: https://docs.python.org/3/tutorial/datastructures.html\n",
    "\"\"\"\n",
    "\n",
    "# Task 1\n",
    "def get_rounds(number):\n",
    "    \"\"\"Create a list containing the current and next two round numbers.\n",
    "\n",
    "    :param number: int - current round number.\n",
    "    :return: list - current round and the two that follow.\n",
    "    \"\"\"\n",
    "\n",
    "    return list((number, number + 1, number + 2))_"
   ]
  },
  {
   "cell_type": "code",
   "execution_count": null,
   "metadata": {},
   "outputs": [],
   "source": [
    "# Task 2\n",
    "def concatenate_rounds(rounds_1, rounds_2):\n",
    "    \"\"\"Concatenate two lists of round numbers.\n",
    "\n",
    "    :param rounds_1: list - first rounds played.\n",
    "    :param rounds_2: list - second set of rounds played.\n",
    "    :return: list - all rounds played.\n",
    "    \"\"\"\n",
    "\n",
    "    return rounds_1 + rounds_2"
   ]
  },
  {
   "cell_type": "code",
   "execution_count": null,
   "metadata": {},
   "outputs": [],
   "source": [
    "# Task 3\n",
    "def list_contains_round(rounds, number):\n",
    "    \"\"\"Check if the list of rounds contains the specified number.\n",
    "\n",
    "    :param rounds: list - rounds played.\n",
    "    :param number: int - round number.\n",
    "    :return: bool - was the round played?\n",
    "    \"\"\"\n",
    "\n",
    "    return number in rounds"
   ]
  },
  {
   "cell_type": "code",
   "execution_count": null,
   "metadata": {},
   "outputs": [],
   "source": [
    "# Task 4\n",
    "def card_average(hand):\n",
    "    \"\"\"Calculate and returns the average card value from the list.\n",
    "\n",
    "    :param hand: list - cards in hand.\n",
    "    :return: float - average value of the cards in the hand.\n",
    "    \"\"\"\n",
    "\n",
    "    return sum(hand) / len(hand)"
   ]
  },
  {
   "cell_type": "code",
   "execution_count": null,
   "metadata": {},
   "outputs": [],
   "source": [
    "# Task 5\n",
    "def approx_average_is_average(hand):\n",
    "    \"\"\"Return if an average is using (first + last index values ) OR ('middle' card) == calculated average.\n",
    "\n",
    "    :param hand: list - cards in hand.\n",
    "    :return: bool - does one of the approximate averages equal the `true average`?\n",
    "    \"\"\"\n",
    "\n",
    "    first_n_last = hand[0] + hand[-1]\n",
    "    first_avg = first_n_last / 2\n",
    "    mid_card = hand[int(len(hand) / 2)]\n",
    "    average = card_average(hand)\n",
    "\n",
    "    return first_avg == average or mid_card == average"
   ]
  },
  {
   "cell_type": "code",
   "execution_count": null,
   "metadata": {},
   "outputs": [],
   "source": [
    "# Task 6\n",
    "def average_even_is_average_odd(hand):\n",
    "    \"\"\"Return if the (average of even indexed card values) == (average of odd indexed card values).\n",
    "\n",
    "    :param hand: list - cards in hand.\n",
    "    :return: bool - are even and odd averages equal?\n",
    "    \"\"\"\n",
    "\n",
    "    even_pos = hand[::2]\n",
    "    odd_pos = hand[1::2]\n",
    "    \n",
    "    return sum(even_pos) / len(even_pos) == sum(odd_pos) / len(odd_pos)"
   ]
  },
  {
   "cell_type": "code",
   "execution_count": null,
   "metadata": {},
   "outputs": [],
   "source": [
    "# Task 7\n",
    "def maybe_double_last(hand):\n",
    "    \"\"\"Multiply a Jack card value in the last index position by 2.\n",
    "\n",
    "    :param hand: list - cards in hand.\n",
    "    :return: list - hand with Jacks (if present) value doubled.\n",
    "    \"\"\"\n",
    "\n",
    "    if hand[-1] == 11:\n",
    "        hand[-1] = hand[-1] * 2\n",
    "        return hand\n",
    "    return hand"
   ]
  }
 ],
 "metadata": {
  "kernelspec": {
   "display_name": "Python 3",
   "language": "python",
   "name": "python3"
  },
  "language_info": {
   "codemirror_mode": {
    "name": "ipython",
    "version": 3
   },
   "file_extension": ".py",
   "mimetype": "text/x-python",
   "name": "python",
   "nbconvert_exporter": "python",
   "pygments_lexer": "ipython3",
   "version": "3.11.3"
  },
  "orig_nbformat": 4
 },
 "nbformat": 4,
 "nbformat_minor": 2
}
