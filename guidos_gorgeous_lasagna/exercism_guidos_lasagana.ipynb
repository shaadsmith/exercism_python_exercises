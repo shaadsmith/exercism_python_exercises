{
 "cells": [
  {
   "attachments": {},
   "cell_type": "markdown",
   "metadata": {},
   "source": [
    "Guido's Gorgeous Lasagna Exercise from Exercism"
   ]
  },
  {
   "cell_type": "code",
   "execution_count": 1,
   "metadata": {},
   "outputs": [],
   "source": [
    "# Task 1\n",
    "EXPECTED_BAKE_TIME = 40\n",
    "PREPARATION_TIME = 2\n",
    "\n",
    "#Task 2\n",
    "def bake_time_remaining(elapsed_bake_time):\n",
    "    \"\"\"Calculate the bake time remaining.\n",
    " \n",
    "    :param elapsed_bake_time: int - baking time already elapsed.\n",
    "    :return: int - remaining bake time (in minutes) derived from 'EXPECTED_BAKE_TIME'.\n",
    " \n",
    "    Function that takes the actual minutes the lasagna has been in the oven as\n",
    "    an argument and returns how many minutes the lasagna still needs to bake\n",
    "    based on the `EXPECTED_BAKE_TIME`.\n",
    "    \"\"\"\n",
    "    return EXPECTED_BAKE_TIME - elapsed_bake_time\n",
    "    \n",
    "#Task 3\n",
    "def preparation_time_in_minutes(number_of_layers):\n",
    "    \"\"\"Calculate the preparation for given number of layers.\n",
    " \n",
    "    :param number_of_layers: int - the number of layers used for preparation\n",
    "    :return: int - the amount of time it takes to prepare given number of layers\n",
    " \n",
    "    Function that takes the amount of layers to prepare and computes the amount of time it takes\n",
    "    to prepare them.\n",
    "    \"\"\"\n",
    "    return number_of_layers * PREPARATION_TIME\n",
    "\n",
    "#Task 4\n",
    "def elapsed_time_in_minutes(number_of_layers, elapsed_bake_time):\n",
    "    \"\"\"Calculate the total amount of time the lasagna is cooking.\n",
    " \n",
    "    :param number_of_layers: int - the number of layers used for preparation\n",
    "    :param elapsed_bake_time: int - how long the lasagna is cooking\n",
    "    :return: int - the amount of time it takes to prepare given number of layers\n",
    "    \"\"\"\n",
    "    return preparation_time_in_minutes(number_of_layers) + elapsed_bake_time"
   ]
  }
 ],
 "metadata": {
  "kernelspec": {
   "display_name": "Python 3",
   "language": "python",
   "name": "python3"
  },
  "language_info": {
   "codemirror_mode": {
    "name": "ipython",
    "version": 3
   },
   "file_extension": ".py",
   "mimetype": "text/x-python",
   "name": "python",
   "nbconvert_exporter": "python",
   "pygments_lexer": "ipython3",
   "version": "3.11.3"
  },
  "orig_nbformat": 4
 },
 "nbformat": 4,
 "nbformat_minor": 2
}
