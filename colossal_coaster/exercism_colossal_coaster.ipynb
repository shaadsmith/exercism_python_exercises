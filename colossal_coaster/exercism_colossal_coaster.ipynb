{
 "cells": [
  {
   "cell_type": "markdown",
   "metadata": {},
   "source": [
    "Chaitana's Colossal Coaster from Exercism"
   ]
  },
  {
   "cell_type": "code",
   "execution_count": null,
   "metadata": {},
   "outputs": [],
   "source": [
    "# Task 1\n",
    "\n",
    "def add_me_to_the_queue(express_queue, normal_queue, ticket_type, person_name):\n",
    "    \"\"\"Add a person to the 'express' or 'normal' queue depending on the ticket number.\n",
    "\n",
    "    :param express_queue: list - names in the Fast-track queue.\n",
    "    :param normal_queue: list - names in the normal queue.\n",
    "    :param ticket_type: int - type of ticket. 1 = express, 0 = normal.\n",
    "    :param person_name: str - name of person to add to a queue.\n",
    "    :return: list - the (updated) queue the name was added to.\n",
    "    \"\"\"\n",
    "\n",
    "    if ticket_type == 0:\n",
    "        normal_queue.append(person_name)\n",
    "        return normal_queue\n",
    "    if ticket_type == 1:\n",
    "        express_queue.append(person_name)\n",
    "        return express_queue"
   ]
  },
  {
   "cell_type": "code",
   "execution_count": null,
   "metadata": {},
   "outputs": [],
   "source": [
    "# Task 2\n",
    "\n",
    "def find_my_friend(queue, friend_name):\n",
    "    \"\"\"Search the queue for a name and return their queue position (index).\n",
    "\n",
    "    :param queue: list - names in the queue.\n",
    "    :param friend_name: str - name of friend to find.\n",
    "    :return: int - index at which the friends name was found.\n",
    "    \"\"\"\n",
    "\n",
    "    return queue.index(friend_name)"
   ]
  },
  {
   "cell_type": "code",
   "execution_count": null,
   "metadata": {},
   "outputs": [],
   "source": [
    "# Task 3\n",
    "\n",
    "def add_me_with_my_friends(queue, index, person_name):\n",
    "    \"\"\"Insert the late arrival's name at a specific index of the queue.\n",
    "\n",
    "    :param queue: list - names in the queue.\n",
    "    :param index: int - the index at which to add the new name.\n",
    "    :param person_name: str - the name to add.\n",
    "    :return: list - queue updated with new name.\n",
    "    \"\"\"\n",
    "\n",
    "    queue.insert(index, person_name)\n",
    "    return queue"
   ]
  },
  {
   "cell_type": "code",
   "execution_count": null,
   "metadata": {},
   "outputs": [],
   "source": [
    "# Task 4\n",
    "\n",
    "def remove_the_mean_person(queue, person_name):\n",
    "    \"\"\"Remove the mean person from the queue by the provided name.\n",
    "\n",
    "    :param queue: list - names in the queue.\n",
    "    :param person_name: str - name of mean person.\n",
    "    :return: list - queue update with the mean persons name removed.\n",
    "    \"\"\"\n",
    "\n",
    "    queue.remove(person_name)\n",
    "    return queue"
   ]
  },
  {
   "cell_type": "code",
   "execution_count": null,
   "metadata": {},
   "outputs": [],
   "source": [
    "# Task 5\n",
    "\n",
    "def how_many_namefellows(queue, person_name):\n",
    "    \"\"\"Count how many times the provided name appears in the queue.\n",
    "\n",
    "    :param queue: list - names in the queue.\n",
    "    :param person_name: str - name you wish to count or track.\n",
    "    :return: int - the number of times the name appears in the queue.\n",
    "    \"\"\"\n",
    "\n",
    "    return queue.count(person_name)"
   ]
  },
  {
   "cell_type": "code",
   "execution_count": null,
   "metadata": {},
   "outputs": [],
   "source": [
    "# Task 6\n",
    "\n",
    "def remove_the_last_person(queue):\n",
    "    \"\"\"Remove the person in the last index from the queue and return their name.\n",
    "\n",
    "    :param queue: list - names in the queue.\n",
    "    :return: str - name that has been removed from the end of the queue.\n",
    "    \"\"\"\n",
    "\n",
    "    return queue.pop(-1)"
   ]
  },
  {
   "cell_type": "code",
   "execution_count": 20,
   "metadata": {},
   "outputs": [
    {
     "data": {
      "text/plain": [
       "['Eltran', 'Natasha', 'Natasha', 'Rocket', 'Steve']"
      ]
     },
     "execution_count": 20,
     "metadata": {},
     "output_type": "execute_result"
    }
   ],
   "source": [
    "# Task 7\n",
    "\n",
    "def sorted_names(queue):\n",
    "    \"\"\"Sort the names in the queue in alphabetical order and return the result.\n",
    "\n",
    "    :param queue: list - names in the queue.\n",
    "    :return: list - copy of the queue in alphabetical order.\n",
    "    \"\"\"\n",
    "\n",
    "    queue.sort()\n",
    "    return queue\n",
    "\n",
    "sorted_names(queue=[\"Natasha\", \"Steve\", \"Eltran\", \"Natasha\", \"Rocket\"])"
   ]
  },
  {
   "cell_type": "code",
   "execution_count": null,
   "metadata": {},
   "outputs": [],
   "source": []
  }
 ],
 "metadata": {
  "kernelspec": {
   "display_name": "Python 3",
   "language": "python",
   "name": "python3"
  },
  "language_info": {
   "codemirror_mode": {
    "name": "ipython",
    "version": 3
   },
   "file_extension": ".py",
   "mimetype": "text/x-python",
   "name": "python",
   "nbconvert_exporter": "python",
   "pygments_lexer": "ipython3",
   "version": "3.11.3"
  },
  "orig_nbformat": 4
 },
 "nbformat": 4,
 "nbformat_minor": 2
}
