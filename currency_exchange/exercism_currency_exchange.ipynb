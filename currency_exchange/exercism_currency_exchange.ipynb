{
 "cells": [
  {
   "attachments": {},
   "cell_type": "markdown",
   "metadata": {},
   "source": [
    "Currency Exchange from Exercism"
   ]
  },
  {
   "cell_type": "code",
   "execution_count": null,
   "metadata": {},
   "outputs": [],
   "source": [
    "# Task 1\n",
    "def exchange_money(budget, exchange_rate):\n",
    "    \"\"\"\n",
    "\n",
    "    :param budget: float - amount of money you are planning to exchange.\n",
    "    :param exchange_rate: float - unit value of the foreign currency.\n",
    "    :return: float - exchanged value of the foreign currency you can receive.\n",
    "    \"\"\"\n",
    "    return budget / exchange_rate\n",
    "\n",
    "# Task 2\n",
    "def get_change(budget, exchanging_value):\n",
    "    \"\"\"\n",
    "\n",
    "    :param budget: float - amount of money you own.\n",
    "    :param exchanging_value: float - amount of your money you want to exchange now.\n",
    "    :return: float - amount left of your starting currency after exchanging.\n",
    "    \"\"\"\n",
    "    return budget - exchanging_value\n",
    "    \n",
    "# Task 3\n",
    "def get_value_of_bills(denomination, number_of_bills):\n",
    "    \"\"\"\n",
    "\n",
    "    :param denomination: int - the value of a bill.\n",
    "    :param number_of_bills: int - amount of bills you received.\n",
    "    :return: int - total value of bills you now have.\n",
    "    \"\"\"\n",
    "    return denomination * number_of_bills\n",
    "\n",
    "# Task 4\n",
    "def get_number_of_bills(budget, denomination):\n",
    "    \"\"\"\n",
    "\n",
    "    :param budget: float - the amount of money you are planning to exchange.\n",
    "    :param denomination: int - the value of a single bill.\n",
    "    :return: int - number of bills after exchanging all your money.\n",
    "    \"\"\"\n",
    "    return budget // denomination\n",
    "    \n",
    "# Task 5\n",
    "def get_leftover_of_bills(budget, denomination):\n",
    "    \"\"\"\n",
    "\n",
    "    :param budget: float - the amount of money you are planning to exchange.\n",
    "    :param denomination: int - the value of a single bill.\n",
    "    :return: float - the leftover amount that cannot be exchanged given the current denomination.\n",
    "    \"\"\"\n",
    "    return budget % denomination\n",
    "\n",
    "# Task 6\n",
    "def exchangeable_value(budget, exchange_rate, spread, denomination):\n",
    "    \"\"\"\n",
    "\n",
    "    :param budget: float - the amount of your money you are planning to exchange.\n",
    "    :param exchange_rate: float - the unit value of the foreign currency.\n",
    "    :param spread: int - percentage that is taken as an exchange fee.\n",
    "    :param denomination: int - the value of a single bill.\n",
    "    :return: int - maximum value you can get.\n",
    "    \"\"\"\n",
    "    total_value = exchange_money(budget, exchange_rate * (1 + spread / 100))\n",
    "    return int(total_value - get_leftover_of_bills(total_value, denomination))"
   ]
  }
 ],
 "metadata": {
  "kernelspec": {
   "display_name": "Python 3",
   "language": "python",
   "name": "python3"
  },
  "language_info": {
   "name": "python",
   "version": "3.11.3"
  },
  "orig_nbformat": 4
 },
 "nbformat": 4,
 "nbformat_minor": 2
}
