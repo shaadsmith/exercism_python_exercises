{
 "cells": [
  {
   "attachments": {},
   "cell_type": "markdown",
   "metadata": {},
   "source": [
    "Ghost Gobble Arcade Game from Exercism"
   ]
  },
  {
   "cell_type": "code",
   "execution_count": null,
   "metadata": {},
   "outputs": [],
   "source": [
    "\"\"\"Functions for implementing the rules of the classic arcade game Pac-Man.\"\"\"\n",
    "\n",
    "# Task 1\n",
    "def eat_ghost(power_pellet_active, touching_ghost):\n",
    "    \"\"\"Verify that Pac-Man can eat a ghost if he is empowered by a power pellet.\n",
    "\n",
    "    :param power_pellet_active: bool - does the player have an active power pellet?\n",
    "    :param touching_ghost: bool - is the player touching a ghost?\n",
    "    :return: bool - can the ghost be eaten?\n",
    "    \"\"\"\n",
    "    return power_pellet_active and touching_ghost\n",
    "\n",
    "# Task 2\n",
    "def score(touching_power_pellet, touching_dot):\n",
    "    \"\"\"Verify that Pac-Man has scored when a power pellet or dot has been eaten.\n",
    "\n",
    "    :param touching_power_pellet: bool - is the player touching a power pellet?\n",
    "    :param touching_dot: bool - is the player touching a dot?\n",
    "    :return: bool - has the player scored or not?\n",
    "    \"\"\"\n",
    "\n",
    "    return touching_power_pellet or touching_dot\n",
    "\n",
    "# Task 3\n",
    "def lose(power_pellet_active, touching_ghost):\n",
    "    \"\"\"Trigger the game loop to end (GAME OVER) when Pac-Man touches a ghost without his power pellet.\n",
    "\n",
    "    :param power_pellet_active: bool - does the player have an active power pellet?\n",
    "    :param touching_ghost: bool - is the player touching a ghost?\n",
    "    :return: bool - has the player lost the game?\n",
    "    \"\"\"\n",
    "\n",
    "    return not power_pellet_active and touching_ghost\n",
    "\n",
    "# Task 4\n",
    "def win(has_eaten_all_dots, power_pellet_active, touching_ghost):\n",
    "    \"\"\"Trigger the victory event when all dots have been eaten.\n",
    "\n",
    "    :param has_eaten_all_dots: bool - has the player \"eaten\" all the dots?\n",
    "    :param power_pellet_active: bool - does the player have an active power pellet?\n",
    "    :param touching_ghost: bool - is the player touching a ghost?\n",
    "    :return: bool - has the player won the game?\n",
    "    \"\"\"\n",
    "\n",
    "    return has_eaten_all_dots and not lose(power_pellet_active, touching_ghost)"
   ]
  }
 ],
 "metadata": {
  "kernelspec": {
   "display_name": "Python 3",
   "language": "python",
   "name": "python3"
  },
  "language_info": {
   "codemirror_mode": {
    "name": "ipython",
    "version": 3
   },
   "file_extension": ".py",
   "mimetype": "text/x-python",
   "name": "python",
   "nbconvert_exporter": "python",
   "pygments_lexer": "ipython3",
   "version": "3.11.3"
  },
  "orig_nbformat": 4
 },
 "nbformat": 4,
 "nbformat_minor": 2
}
