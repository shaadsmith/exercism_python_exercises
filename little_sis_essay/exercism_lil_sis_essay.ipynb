{
 "cells": [
  {
   "cell_type": "markdown",
   "metadata": {},
   "source": [
    "Exercism Little Sister's Essay"
   ]
  },
  {
   "cell_type": "code",
   "execution_count": null,
   "metadata": {},
   "outputs": [],
   "source": [
    "\"\"\"Functions to help edit essay homework using string manipulation.\"\"\"\n",
    "\n",
    "# Task 1\n",
    "def capitalize_title(title):\n",
    "    \"\"\"Convert the first letter of each word in the title to uppercase if needed.\n",
    "\n",
    "    :param title: str - title string that needs title casing.\n",
    "    :return: str - title string in title case (first letters capitalized).\n",
    "    \"\"\"\n",
    "\n",
    "    return title.title()"
   ]
  },
  {
   "cell_type": "code",
   "execution_count": null,
   "metadata": {},
   "outputs": [],
   "source": [
    "# Task 2\n",
    "def check_sentence_ending(sentence):\n",
    "    \"\"\"Check the ending of the sentence to verify that a period is present.\n",
    "\n",
    "    :param sentence: str - a sentence to check.\n",
    "    :return: bool - return True if punctuated correctly with period, False otherwise.\n",
    "    \"\"\"\n",
    "\n",
    "    return sentence.endswith('.')\n",
    "\n",
    "check_sentence_ending(\"I like to hike, bake, and read!\")"
   ]
  },
  {
   "cell_type": "code",
   "execution_count": null,
   "metadata": {},
   "outputs": [],
   "source": [
    "#Task 3\n",
    "def clean_up_spacing(sentence):\n",
    "    \"\"\"Verify that there isn't any whitespace at the start and end of the sentence.\n",
    "\n",
    "    :param sentence: str - a sentence to clean of leading and trailing space characters.\n",
    "    :return: str - a sentence that has been cleaned of leading and trailing space characters.\n",
    "    \"\"\"\n",
    "\n",
    "    return sentence.strip()\n",
    "\n",
    "clean_up_spacing(\" I like to go on hikes with my dog.  \")"
   ]
  },
  {
   "cell_type": "code",
   "execution_count": null,
   "metadata": {},
   "outputs": [],
   "source": [
    "# Task 4\n",
    "def replace_word_choice(sentence, old_word, new_word):\n",
    "    \"\"\"Replace a word in the provided sentence with a new one.\n",
    "\n",
    "    :param sentence: str - a sentence to replace words in.\n",
    "    :param old_word: str - word to replace.\n",
    "    :param new_word: str - replacement word.\n",
    "    :return: str - input sentence with new words in place of old words.\n",
    "    \"\"\"\n",
    "\n",
    "    return sentence.replace(old_word, new_word)\n",
    "\n",
    "replace_word_choice(\"I bake good cakes.\", \"good\", \"amazing\")"
   ]
  }
 ],
 "metadata": {
  "kernelspec": {
   "display_name": "Python 3",
   "language": "python",
   "name": "python3"
  },
  "language_info": {
   "codemirror_mode": {
    "name": "ipython",
    "version": 3
   },
   "file_extension": ".py",
   "mimetype": "text/x-python",
   "name": "python",
   "nbconvert_exporter": "python",
   "pygments_lexer": "ipython3",
   "version": "3.11.3"
  },
  "orig_nbformat": 4
 },
 "nbformat": 4,
 "nbformat_minor": 2
}
